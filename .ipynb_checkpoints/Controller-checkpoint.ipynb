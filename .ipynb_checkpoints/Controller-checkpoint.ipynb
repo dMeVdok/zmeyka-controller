{
  "nbformat": 4,
  "nbformat_minor": 0,
  "metadata": {
    "kernelspec": {
      "display_name": "Python 3",
      "language": "python",
      "name": "python3"
    },
    "language_info": {
      "codemirror_mode": {
        "name": "ipython",
        "version": 3
      },
      "file_extension": ".py",
      "mimetype": "text/x-python",
      "name": "python",
      "nbconvert_exporter": "python",
      "pygments_lexer": "ipython3",
      "version": "3.5.3"
    },
    "colab": {
      "name": "Controller-checkpoint.ipynb",
      "provenance": []
    }
  },
  "cells": [
    {
      "cell_type": "code",
      "metadata": {
        "id": "wLiUc2xJe2zF",
        "colab_type": "code",
        "colab": {}
      },
      "source": [
        "import matplotlib.pyplot as plt\n",
        "import matplotlib\n",
        "import random, time\n",
        "import numpy as np\n",
        "from IPython import display\n",
        "\n",
        "#%matplotlib inline\n",
        "matplotlib.rcParams['figure.figsize'] = (2,2)\n",
        "\n",
        "class Snake:\n",
        "    \n",
        "    def __init__(self,initial_coords=(0,0),grid=None):\n",
        "        self.body = [initial_coords]\n",
        "        self.grid = grid\n",
        "        self.grid.set_pixel(initial_coords,1)\n",
        "        self.direction = 'U'\n",
        "        \n",
        "    def set_direction(self,new_direction):\n",
        "        self.direction = new_direction\n",
        "        \n",
        "    def step(self):\n",
        "        if self.direction == 'L':\n",
        "            self.body.insert(0,(self.body[0][0]-1,self.body[0][1]))\n",
        "        elif self.direction == 'R':\n",
        "            self.body.insert(0,(self.body[0][0]+1,self.body[0][1]))\n",
        "        elif self.direction == 'U':\n",
        "            self.body.insert(0,(self.body[0][0],self.body[0][1]+1))\n",
        "        elif self.direction == 'D':\n",
        "            self.body.insert(0,(self.body[0][0],self.body[0][1]-1))\n",
        "        self.grid.set_pixel(self.body[-1],0)\n",
        "        r = self.grid.check_pixel(self.body[0])\n",
        "        if r==0 or r==2:\n",
        "            self.grid.set_pixel(self.body[0],1)\n",
        "            if r!=2: self.body = self.body[:-1]\n",
        "        else:\n",
        "            pass\n",
        "        return r\n",
        "\n",
        "class Grid:\n",
        "\n",
        "    def __init__(self,width=10,height=10):\n",
        "        self.pixels = [[0 for j in range(width)] for i in range(height)]\n",
        "        self.snake = Snake((5,5),self)\n",
        "        self.spawn_food()\n",
        "        \n",
        "    def spawn_food(self):\n",
        "        free_pixels = []\n",
        "        for x in range(len(self.pixels)):\n",
        "            for y in range(len(self.pixels[0])):\n",
        "                if self.pixels[x][y] == 0:\n",
        "                    free_pixels.append((x,y))\n",
        "        for_food = random.choice(free_pixels)\n",
        "        self.set_pixel(for_food,2)\n",
        "        self.set_pixel((5,8),2)\n",
        "    \n",
        "    def turn(self):\n",
        "        self.snake.step()\n",
        "        return self.show()\n",
        "        \n",
        "    def set_pixel(self,coord,c):\n",
        "        self.pixels[coord[0]][coord[1]] = c\n",
        "        \n",
        "    def check_pixel(self,coord):\n",
        "        return self.pixels[coord[0]][coord[1]]\n",
        "        \n",
        "    def show(self):\n",
        "        fig = plt.imshow(self.pixels)\n",
        "        fig.axes.get_xaxis().set_visible(False)\n",
        "        fig.axes.get_yaxis().set_visible(False)\n",
        "        return fig\n",
        "        \n",
        "class Controller:\n",
        "    def __init__(self, controller_params=None):\n",
        "        self.grid = Grid(30,30)\n",
        "        pass\n",
        "    \n",
        "    def start(self):\n",
        "        for i in range(10):\n",
        "            self.grid.turn()\n",
        "            display.clear_output(wait=True)\n",
        "            display.display(plt.gcf())\n",
        "            time.sleep(0.01)"
      ],
      "execution_count": 0,
      "outputs": []
    },
    {
      "cell_type": "code",
      "metadata": {
        "id": "WXZ42WSie2zP",
        "colab_type": "code",
        "colab": {}
      },
      "source": [
        "c = Controller()"
      ],
      "execution_count": 0,
      "outputs": []
    },
    {
      "cell_type": "code",
      "metadata": {
        "id": "2lyF6t2de2zU",
        "colab_type": "code",
        "colab": {},
        "outputId": "ea7806e6-e969-4405-c167-271e29f3de26"
      },
      "source": [
        "c.start()"
      ],
      "execution_count": 0,
      "outputs": [
        {
          "output_type": "display_data",
          "data": {
            "image/png": "[encoded data removed]",
            "text/plain": [
              "<matplotlib.figure.Figure at 0x7fc2e10af470>"
            ]
          },
          "metadata": {
            "tags": []
          }
        },
        {
          "output_type": "display_data",
          "data": {
            "image/png": "[encoded data removed]",
            "text/plain": [
              "<matplotlib.figure.Figure at 0x7fc2e10af470>"
            ]
          },
          "metadata": {
            "tags": []
          }
        }
      ]
    },
    {
      "cell_type": "code",
      "metadata": {
        "id": "DRK9Alpqe2za",
        "colab_type": "code",
        "colab": {},
        "outputId": "7421e01c-34dd-4e59-8169-74b69b1cf73b"
      },
      "source": [
        "np.where(np.ndarray([[1,2,3],[4,0,6],[7,8,9]]) == 0)"
      ],
      "execution_count": 0,
      "outputs": [
        {
          "output_type": "error",
          "ename": "TypeError",
          "evalue": "'list' object cannot be interpreted as an integer",
          "traceback": [
            "\u001b[0;31m---------------------------------------------------------------------------\u001b[0m",
            "\u001b[0;31mTypeError\u001b[0m                                 Traceback (most recent call last)",
            "\u001b[0;32m<ipython-input-84-26bf1960245b>\u001b[0m in \u001b[0;36m<module>\u001b[0;34m()\u001b[0m\n\u001b[0;32m----> 1\u001b[0;31m \u001b[0mnp\u001b[0m\u001b[0;34m.\u001b[0m\u001b[0mwhere\u001b[0m\u001b[0;34m(\u001b[0m\u001b[0mnp\u001b[0m\u001b[0;34m.\u001b[0m\u001b[0mndarray\u001b[0m\u001b[0;34m(\u001b[0m\u001b[0;34m[\u001b[0m\u001b[0;34m[\u001b[0m\u001b[0;36m1\u001b[0m\u001b[0;34m,\u001b[0m\u001b[0;36m2\u001b[0m\u001b[0;34m,\u001b[0m\u001b[0;36m3\u001b[0m\u001b[0;34m]\u001b[0m\u001b[0;34m,\u001b[0m\u001b[0;34m[\u001b[0m\u001b[0;36m4\u001b[0m\u001b[0;34m,\u001b[0m\u001b[0;36m0\u001b[0m\u001b[0;34m,\u001b[0m\u001b[0;36m6\u001b[0m\u001b[0;34m]\u001b[0m\u001b[0;34m,\u001b[0m\u001b[0;34m[\u001b[0m\u001b[0;36m7\u001b[0m\u001b[0;34m,\u001b[0m\u001b[0;36m8\u001b[0m\u001b[0;34m,\u001b[0m\u001b[0;36m9\u001b[0m\u001b[0;34m]\u001b[0m\u001b[0;34m]\u001b[0m\u001b[0;34m)\u001b[0m \u001b[0;34m==\u001b[0m \u001b[0;36m0\u001b[0m\u001b[0;34m)\u001b[0m\u001b[0;34m\u001b[0m\u001b[0m\n\u001b[0m",
            "\u001b[0;31mTypeError\u001b[0m: 'list' object cannot be interpreted as an integer"
          ]
        }
      ]
    },
    {
      "cell_type": "code",
      "metadata": {
        "id": "Z39Dhz3Re2zf",
        "colab_type": "code",
        "colab": {}
      },
      "source": [
        ""
      ],
      "execution_count": 0,
      "outputs": []
    }
  ]
}