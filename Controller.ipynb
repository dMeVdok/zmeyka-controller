{
 "cells": [
  {
   "cell_type": "code",
   "execution_count": 61,
   "metadata": {},
   "outputs": [],
   "source": [
    "import matplotlib.pyplot as plt\n",
    "import matplotlib\n",
    "import random\n",
    "\n",
    "%matplotlib inline\n",
    "matplotlib.rcParams['figure.figsize'] = (10,10)\n",
    "\n",
    "class Snake:\n",
    "    \n",
    "    def __init__(self):\n",
    "        self.body = [(),(),...]\n",
    "        self.direction = ...\n",
    "        \n",
    "    def set_direction(self,new_direction):\n",
    "        #set a new direction for the snake\n",
    "        pass\n",
    "        \n",
    "    def step(self):\n",
    "        #compute next_point -- a point where the head will be after the step\n",
    "        #compute del_point -- a point where the tail was before the step\n",
    "        #make changes in self.body\n",
    "        #return 0 -- snake just moved\n",
    "        #return 1 -- snake got some food\n",
    "        #return -1 -- snake died\n",
    "        pass\n",
    "\n",
    "class Grid:\n",
    "\n",
    "    def __init__(self,width=10,height=10):\n",
    "        self.pixels = [[random.random() for j in range(width)] for i in range(height)]\n",
    "        \n",
    "    def spawn_food():\n",
    "        #what is the correct distribution?\n",
    "        pass\n",
    "\n",
    "    def spawn_snake():\n",
    "        pass\n",
    "        \n",
    "    def set_pixel(self,x,y,c):\n",
    "        self.pixels[x][y] = c\n",
    "        \n",
    "    def show(self):\n",
    "        fig = plt.imshow(self.pixels)\n",
    "        fig.axes.get_xaxis().set_visible(False)\n",
    "        fig.axes.get_yaxis().set_visible(False)\n",
    "        \n",
    "class Controller:\n",
    "    def __init__(self, controller_params=None):\n",
    "        self.grid = Grid(30,30)\n",
    "        pass\n",
    "    \n",
    "    def show(self):\n",
    "        self.grid.show()\n"
   ]
  },
  {
   "cell_type": "code",
   "execution_count": 58,
   "metadata": {},
   "outputs": [
    {
     "data": {
      "image/png": "[encoded data removed]",
      "text/plain": [
       "<matplotlib.figure.Figure at 0x7f24b8559da0>"
      ]
     },
     "metadata": {},
     "output_type": "display_data"
    }
   ],
   "source": [
    "c = Controller()\n",
    "c.show()"
   ]
  },
  {
   "cell_type": "code",
   "execution_count": null,
   "metadata": {},
   "outputs": [],
   "source": []
  }
 ],
 "metadata": {
  "kernelspec": {
   "display_name": "Python 3",
   "language": "python",
   "name": "python3"
  },
  "language_info": {
   "codemirror_mode": {
    "name": "ipython",
    "version": 3
   },
   "file_extension": ".py",
   "mimetype": "text/x-python",
   "name": "python",
   "nbconvert_exporter": "python",
   "pygments_lexer": "ipython3",
   "version": "3.5.3"
  }
 },
 "nbformat": 4,
 "nbformat_minor": 2
}
